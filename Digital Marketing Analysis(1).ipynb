{
 "cells": [
  {
   "cell_type": "code",
   "execution_count": null,
   "id": "2ba23f2f-689b-4c32-9f06-57590e5d7022",
   "metadata": {},
   "outputs": [],
   "source": [
    "import pandas as pd\n",
    "import warnings\n",
    "warnings.filterwarnings('ignore')"
   ]
  },
  {
   "cell_type": "code",
   "execution_count": null,
   "id": "aee36c74-09ab-4412-9a96-0feeab4c5c09",
   "metadata": {},
   "outputs": [],
   "source": [
    "df=pd.read_csv('digital_marketing_campaign_dataset.csv')\""
   ]
  },
  {
   "cell_type": "code",
   "execution_count": null,
   "id": "c9047064-5d12-4931-9461-bee710328b6d",
   "metadata": {},
   "outputs": [],
   "source": [
    "df.head(2)"
   ]
  },
  {
   "cell_type": "markdown",
   "id": "4334644a-59b3-48d3-adc5-5416cf2af491",
   "metadata": {},
   "source": [
    "# About Data set"
   ]
  },
  {
   "cell_type": "markdown",
   "id": "7635352d-e8ab-4c66-8ef5-725605bf0210",
   "metadata": {},
   "source": [
    "\n",
    "**CustomerID: Unique identifier for each customer.**\n",
    "\n",
    "**Age: Age of the customer.**\n",
    "\n",
    "**Gender: Gender of the customer (Male/Female).**\n",
    "\n",
    "**Income: Annual income of the customer in USD.**\n"
   ]
  },
  {
   "cell_type": "markdown",
   "id": "b62510f8-cf3b-431d-9328-646bd118f0cf",
   "metadata": {},
   "source": [
    "**CampaignChannel: The channel through which the marketing campaign is delivered (Email, Social Media, SEO, PPC, Referral).**\n",
    "\n",
    "**CampaignType: Type of the marketing campaign (Awareness, Consideration, Conversion, Retention).**\n",
    "\n",
    "**AdSpend: Amount spent on the marketing campaign in USD.**\n",
    "\n",
    "**ClickThroughRate: Rate at which customers click on the marketing content.**\n",
    "\n",
    "**ConversionRate: Rate at which clicks convert to desired actions (e.g., purchases).**\n",
    "\n",
    "**AdvertisingPlatform: Confidential.**\n",
    "\n",
    "**AdvertisingTool: Confidential.**\n",
    "\n",
    "**PreviousPurchases: Number of previous purchases made by the customer.**\n",
    "\n",
    "**LoyaltyPoints: Number of loyalty points accumulated by the customer.**\n",
    "\n",
    "**Conversion: Binary variable indicating whether the customer converted (1) or not (0).**"
   ]
  },
  {
   "cell_type": "markdown",
   "id": "905883e2-9c23-493a-8b1c-21b8d74a1dfe",
   "metadata": {},
   "source": [
    "# 1. Predictive modeling of customer conversion rates.\n",
    "*in this we will develop a model based on these parameters to predict whether the customer will proceed to make a purchase*"
   ]
  },
  {
   "cell_type": "code",
   "execution_count": null,
   "id": "bcc0b2e0-b3b3-42d7-a379-2ad0aed9eab6",
   "metadata": {},
   "outputs": [],
   "source": [
    "df.columns"
   ]
  },
  {
   "cell_type": "code",
   "execution_count": null,
   "id": "8ceb8318-78e3-4a8f-8742-fda609f65847",
   "metadata": {},
   "outputs": [],
   "source": [
    "df.drop(['AdvertisingPlatform','AdvertisingTool'],axis='columns',inplace=True)"
   ]
  },
  {
   "cell_type": "code",
   "execution_count": null,
   "id": "ee407a86-fb4b-4673-b258-0d5fa76cacea",
   "metadata": {},
   "outputs": [],
   "source": [
    "df.head(1)"
   ]
  },
  {
   "cell_type": "code",
   "execution_count": null,
   "id": "426ee7af-d4a9-49fa-964f-245699e8d18d",
   "metadata": {},
   "outputs": [],
   "source": [
    "df.Gender.unique()"
   ]
  },
  {
   "cell_type": "code",
   "execution_count": null,
   "id": "26f8e965-69c3-442d-9def-e4237e69ead6",
   "metadata": {},
   "outputs": [],
   "source": [
    "df.CampaignChannel.unique()"
   ]
  },
  {
   "cell_type": "code",
   "execution_count": null,
   "id": "c619d7d1-c1cb-40aa-93a0-15b1d49cdd8e",
   "metadata": {},
   "outputs": [],
   "source": [
    "df.CampaignType.unique()"
   ]
  },
  {
   "cell_type": "code",
   "execution_count": null,
   "id": "8d047c13-ee2e-4b55-8c7d-2614be6bd8d9",
   "metadata": {},
   "outputs": [],
   "source": [
    "df.head(1)"
   ]
  },
  {
   "cell_type": "code",
   "execution_count": null,
   "id": "f040c1c0-72df-4158-b785-aca7b94d9237",
   "metadata": {},
   "outputs": [],
   "source": [
    "df.shape"
   ]
  },
  {
   "cell_type": "code",
   "execution_count": null,
   "id": "2862d97c-4ed8-4004-b00f-90dcae2bdfdf",
   "metadata": {},
   "outputs": [],
   "source": [
    "df1=pd.get_dummies(df,columns=['Gender','CampaignChannel','CampaignType'],drop_first=True).astype(int)"
   ]
  },
  {
   "cell_type": "code",
   "execution_count": null,
   "id": "d08e5ffb-9556-4cab-be92-88904975f816",
   "metadata": {},
   "outputs": [],
   "source": [
    "df1.shape"
   ]
  },
  {
   "cell_type": "code",
   "execution_count": null,
   "id": "601bfe0c-7516-428a-b840-5c221fa1be05",
   "metadata": {},
   "outputs": [],
   "source": [
    "df1.head(1)"
   ]
  },
  {
   "cell_type": "code",
   "execution_count": null,
   "id": "e9db1d3a-8ceb-405a-9d35-e06d8492139a",
   "metadata": {},
   "outputs": [],
   "source": [
    "from sklearn.model_selection import train_test_split"
   ]
  },
  {
   "cell_type": "code",
   "execution_count": null,
   "id": "97888021-3cba-48c6-ab09-1353eaaac379",
   "metadata": {},
   "outputs": [],
   "source": [
    "from sklearn.linear_model import LinearRegression"
   ]
  },
  {
   "cell_type": "code",
   "execution_count": null,
   "id": "04da8b0b-37d8-455a-9c3c-82db27277d38",
   "metadata": {},
   "outputs": [],
   "source": [
    "from sklearn.linear_model import LogisticRegression"
   ]
  },
  {
   "cell_type": "code",
   "execution_count": null,
   "id": "db02f674-4e8b-4707-be1e-168d6ddfda89",
   "metadata": {},
   "outputs": [],
   "source": [
    "from sklearn.tree import DecisionTreeClassifier"
   ]
  },
  {
   "cell_type": "code",
   "execution_count": null,
   "id": "baad726f-1df6-4deb-b58d-98babae0f97b",
   "metadata": {},
   "outputs": [],
   "source": [
    "from sklearn.ensemble import RandomForestClassifier"
   ]
  },
  {
   "cell_type": "code",
   "execution_count": null,
   "id": "3eb9b461-7064-40e4-9027-09adf98f5832",
   "metadata": {},
   "outputs": [],
   "source": [
    "from sklearn.naive_bayes import GaussianNB"
   ]
  },
  {
   "cell_type": "code",
   "execution_count": null,
   "id": "4169d63f-15ab-480b-ba9d-276448d91fe0",
   "metadata": {},
   "outputs": [],
   "source": [
    "from sklearn.svm import SVC"
   ]
  },
  {
   "cell_type": "code",
   "execution_count": null,
   "id": "68a69f02-06f3-43d7-aabf-0d48c2f6e698",
   "metadata": {},
   "outputs": [],
   "source": [
    "from sklearn.model_selection import KFold"
   ]
  },
  {
   "cell_type": "code",
   "execution_count": null,
   "id": "3726a4e9-02cb-49f3-9002-d27c03591441",
   "metadata": {},
   "outputs": [],
   "source": [
    "from sklearn.model_selection import cross_val_score"
   ]
  },
  {
   "cell_type": "code",
   "execution_count": null,
   "id": "e43fc867-3ddb-4a8b-ba6a-7ea5c72c23d7",
   "metadata": {},
   "outputs": [],
   "source": [
    "inputs=df1.drop('Conversion',axis='columns')\n",
    "output=df1.Conversion"
   ]
  },
  {
   "cell_type": "code",
   "execution_count": null,
   "id": "3327f5cd-22b0-4d2e-9ed1-e5d94662e4b8",
   "metadata": {},
   "outputs": [],
   "source": [
    "X_train,X_test,y_train,y_test=train_test_split(inputs,output,test_size=0.15,random_state=20)"
   ]
  },
  {
   "cell_type": "code",
   "execution_count": null,
   "id": "bb9d151f-fb49-474d-aa00-9b5e6f4111cf",
   "metadata": {},
   "outputs": [],
   "source": [
    "linear_score=cross_val_score(LinearRegression(), X_train,y_train,cv=5)\n",
    "linear_score.mean()"
   ]
  },
  {
   "cell_type": "code",
   "execution_count": null,
   "id": "9e938c05-8bcf-4f68-852f-dd5600ed06ef",
   "metadata": {},
   "outputs": [],
   "source": [
    "Decision_score=cross_val_score(DecisionTreeClassifier(), X_train,y_train,cv=5)\n",
    "Decision_score.mean()"
   ]
  },
  {
   "cell_type": "code",
   "execution_count": null,
   "id": "4663b45e-2738-47ad-8fd0-c5376d722bad",
   "metadata": {},
   "outputs": [],
   "source": [
    "Logistic_score=cross_val_score(LogisticRegression(max_iter=100), X_train,y_train,cv=5)\n",
    "Logistic_score.mean()"
   ]
  },
  {
   "cell_type": "code",
   "execution_count": null,
   "id": "145ffb8c-5e4a-4f79-a307-6f815e0388c6",
   "metadata": {},
   "outputs": [],
   "source": [
    "import numpy as np"
   ]
  },
  {
   "cell_type": "code",
   "execution_count": null,
   "id": "54e8e6a0-14b9-48fd-b0f8-1294650693d8",
   "metadata": {},
   "outputs": [],
   "source": [
    "svc_score=cross_val_score(SVC(), X_train,y_train,cv=5)\n",
    "svc_score.mean()"
   ]
  },
  {
   "cell_type": "code",
   "execution_count": null,
   "id": "26024861-56d9-444e-b37c-cf4a06b91868",
   "metadata": {},
   "outputs": [],
   "source": [
    "Gaussian_score=cross_val_score(GaussianNB(), X_train,y_train,cv=5)\n",
    "Gaussian_score.mean()"
   ]
  },
  {
   "cell_type": "code",
   "execution_count": null,
   "id": "d3b86a4e-3166-42e9-9e5d-52602b09e459",
   "metadata": {},
   "outputs": [],
   "source": [
    "Gaussian_score=cross_val_score(GaussianNB(), X_train,y_train,cv=5)\n",
    "Gaussian_score.mean()"
   ]
  },
  {
   "cell_type": "code",
   "execution_count": null,
   "id": "644cc7cb-0e89-496a-8159-4f80ef4f1ef5",
   "metadata": {},
   "outputs": [],
   "source": [
    "from sklearn.neighbors import KNeighborsClassifier"
   ]
  },
  {
   "cell_type": "code",
   "execution_count": null,
   "id": "35769fd0-2637-47a4-8c8d-a3c894c10b73",
   "metadata": {},
   "outputs": [],
   "source": [
    "Knn_score=cross_val_score(KNeighborsClassifier(), X_train,y_train,cv=5)\n",
    "Knn_score.mean()"
   ]
  },
  {
   "cell_type": "code",
   "execution_count": null,
   "id": "c42a916c-b21b-47e8-bec1-cb0494caa2ea",
   "metadata": {},
   "outputs": [],
   "source": [
    "Random_score=cross_val_score(RandomForestClassifier(), X_train,y_train,cv=5)\n",
    "Random_score.mean()"
   ]
  },
  {
   "cell_type": "code",
   "execution_count": null,
   "id": "91c6a84d-fb23-4e57-8fa1-79172c29b55e",
   "metadata": {},
   "outputs": [],
   "source": [
    "RandomForestClassifier"
   ]
  },
  {
   "cell_type": "code",
   "execution_count": null,
   "id": "9c29ba2f-0eff-4ef7-82ca-d55d5dacfdd0",
   "metadata": {},
   "outputs": [],
   "source": [
    "Random_score=cross_val_score(RandomForestClassifier(n_estimators=150,criterion='entropy',random_state=10), X_train,y_train,cv=5)\n",
    "Random_score.mean()"
   ]
  },
  {
   "cell_type": "markdown",
   "id": "ebc0f0db-2bc3-4c87-b4f9-ad605557a37c",
   "metadata": {},
   "source": [
    "# Finding Best Parameters"
   ]
  },
  {
   "cell_type": "code",
   "execution_count": null,
   "id": "68c4eed6-a0e8-4024-8040-e2f60b48fc2c",
   "metadata": {},
   "outputs": [],
   "source": [
    "from sklearn.model_selection import GridSearchCV"
   ]
  },
  {
   "cell_type": "code",
   "execution_count": null,
   "id": "30239a70-e33d-4547-8c79-ddd38b49ceb2",
   "metadata": {},
   "outputs": [],
   "source": [
    "Parameter_Tuning=GridSearchCV(RandomForestClassifier(), {\n",
    "    'n_estimators':[150,175,200],\n",
    "    'criterion':['gini','entropy'],\n",
    "    'random_state':[10,20]\n",
    "},cv=5,return_train_score=False)\n",
    "\n",
    "Parameter_Tuning  "
   ]
  },
  {
   "cell_type": "code",
   "execution_count": null,
   "id": "10018249-0473-478b-8768-7d641c4e83ba",
   "metadata": {},
   "outputs": [],
   "source": [
    "Parameter_Tuning.fit(X_train,y_train)"
   ]
  },
  {
   "cell_type": "code",
   "execution_count": null,
   "id": "a95b8f71-e324-48b2-885d-4ed1ebf3a861",
   "metadata": {},
   "outputs": [],
   "source": [
    "results=Parameter_Tuning.cv_results_"
   ]
  },
  {
   "cell_type": "code",
   "execution_count": null,
   "id": "2cefc27b-0403-45e7-bb5b-6689119d92ec",
   "metadata": {},
   "outputs": [],
   "source": [
    "final=pd.DataFrame(results)"
   ]
  },
  {
   "cell_type": "code",
   "execution_count": null,
   "id": "67273036-1fe0-4973-8bb5-22760d1f2c47",
   "metadata": {},
   "outputs": [],
   "source": [
    "final"
   ]
  }
 ],
 "metadata": {
  "kernelspec": {
   "display_name": "Python [conda env:base] *",
   "language": "python",
   "name": "conda-base-py"
  },
  "language_info": {
   "codemirror_mode": {
    "name": "ipython",
    "version": 3
   },
   "file_extension": ".py",
   "mimetype": "text/x-python",
   "name": "python",
   "nbconvert_exporter": "python",
   "pygments_lexer": "ipython3",
   "version": "3.12.7"
  }
 },
 "nbformat": 4,
 "nbformat_minor": 5
}
